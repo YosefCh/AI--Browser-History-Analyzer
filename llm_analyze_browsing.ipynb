{
 "cells": [
  {
   "cell_type": "code",
   "execution_count": 8,
   "metadata": {},
   "outputs": [
    {
     "data": {
      "text/markdown": [
       " ### Earliest date:  __2023-01-30 20:31:28__ \n",
       " ### Latest date:  __2024-09-13 14:08:22__"
      ],
      "text/plain": [
       "<IPython.core.display.Markdown object>"
      ]
     },
     "metadata": {},
     "output_type": "display_data"
    }
   ],
   "source": [
    "import pandas as pd \n",
    "from IPython.display import display, Markdown\n",
    "\n",
    "with open('browser_history_file_path.txt', 'r') as file:\n",
    "    file_path = file.read()\n",
    "\n",
    "df = pd.read_csv(file_path)\n",
    "\n",
    "# convert the 'Date' column to datetime format\n",
    "df['Date'] = pd.to_datetime(df['Date'])\n",
    "max_date = df['Date'].max()\n",
    "min_date = df['Date'].min()\n",
    "\n",
    "# using markdown to display the start and end date of the available browsing history\n",
    "display(Markdown(f' ### Earliest date:  __{min_date}__ \\n ### Latest date:  __{max_date}__'))"
   ]
  },
  {
   "cell_type": "markdown",
   "metadata": {},
   "source": [
    "Choose a start and end date for the desired browsing history to analyze.\n",
    "\n",
    "Bear in mind that the dataframe cannot exceed approximately 800,000 characters, so the date range should be chosen accordingly. It might be a trial and error process to find the largest possible date range that fits within the character limit."
   ]
  },
  {
   "cell_type": "code",
   "execution_count": 4,
   "metadata": {},
   "outputs": [
    {
     "data": {
      "text/html": [
       "<div>\n",
       "<style scoped>\n",
       "    .dataframe tbody tr th:only-of-type {\n",
       "        vertical-align: middle;\n",
       "    }\n",
       "\n",
       "    .dataframe tbody tr th {\n",
       "        vertical-align: top;\n",
       "    }\n",
       "\n",
       "    .dataframe thead th {\n",
       "        text-align: right;\n",
       "    }\n",
       "</style>\n",
       "<table border=\"1\" class=\"dataframe\">\n",
       "  <thead>\n",
       "    <tr style=\"text-align: right;\">\n",
       "      <th></th>\n",
       "      <th>Date</th>\n",
       "      <th>URL</th>\n",
       "    </tr>\n",
       "  </thead>\n",
       "  <tbody>\n",
       "    <tr>\n",
       "      <th>13226</th>\n",
       "      <td>2023-10-10 10:02:20</td>\n",
       "      <td>https://www.pythonanywhere.com/</td>\n",
       "    </tr>\n",
       "    <tr>\n",
       "      <th>13227</th>\n",
       "      <td>2023-10-10 10:02:20</td>\n",
       "      <td>https://www.pythonanywhere.com/</td>\n",
       "    </tr>\n",
       "    <tr>\n",
       "      <th>13228</th>\n",
       "      <td>2023-10-10 10:02:51</td>\n",
       "      <td>https://www.pythonanywhere.com/pricing/</td>\n",
       "    </tr>\n",
       "    <tr>\n",
       "      <th>13229</th>\n",
       "      <td>2023-10-10 10:02:51</td>\n",
       "      <td>https://www.pythonanywhere.com/pricing/</td>\n",
       "    </tr>\n",
       "    <tr>\n",
       "      <th>13230</th>\n",
       "      <td>2023-10-10 10:03:25</td>\n",
       "      <td>https://www.pythonanywhere.com/registration/re...</td>\n",
       "    </tr>\n",
       "    <tr>\n",
       "      <th>...</th>\n",
       "      <td>...</td>\n",
       "      <td>...</td>\n",
       "    </tr>\n",
       "    <tr>\n",
       "      <th>13685</th>\n",
       "      <td>2023-10-19 22:11:39</td>\n",
       "      <td>https://www.coursera.org/?authMode=login</td>\n",
       "    </tr>\n",
       "    <tr>\n",
       "      <th>13686</th>\n",
       "      <td>2023-10-19 22:11:43</td>\n",
       "      <td>https://accounts.google.com/v3/signin/identifi...</td>\n",
       "    </tr>\n",
       "    <tr>\n",
       "      <th>13687</th>\n",
       "      <td>2023-10-19 22:11:43</td>\n",
       "      <td>https://accounts.google.com/v3/signin/identifi...</td>\n",
       "    </tr>\n",
       "    <tr>\n",
       "      <th>13688</th>\n",
       "      <td>2023-10-19 22:11:51</td>\n",
       "      <td>https://www.coursera.org/</td>\n",
       "    </tr>\n",
       "    <tr>\n",
       "      <th>13689</th>\n",
       "      <td>2023-10-19 22:11:51</td>\n",
       "      <td>https://www.coursera.org/</td>\n",
       "    </tr>\n",
       "  </tbody>\n",
       "</table>\n",
       "<p>464 rows × 2 columns</p>\n",
       "</div>"
      ],
      "text/plain": [
       "                     Date                                                URL\n",
       "13226 2023-10-10 10:02:20                    https://www.pythonanywhere.com/\n",
       "13227 2023-10-10 10:02:20                    https://www.pythonanywhere.com/\n",
       "13228 2023-10-10 10:02:51            https://www.pythonanywhere.com/pricing/\n",
       "13229 2023-10-10 10:02:51            https://www.pythonanywhere.com/pricing/\n",
       "13230 2023-10-10 10:03:25  https://www.pythonanywhere.com/registration/re...\n",
       "...                   ...                                                ...\n",
       "13685 2023-10-19 22:11:39           https://www.coursera.org/?authMode=login\n",
       "13686 2023-10-19 22:11:43  https://accounts.google.com/v3/signin/identifi...\n",
       "13687 2023-10-19 22:11:43  https://accounts.google.com/v3/signin/identifi...\n",
       "13688 2023-10-19 22:11:51                          https://www.coursera.org/\n",
       "13689 2023-10-19 22:11:51                          https://www.coursera.org/\n",
       "\n",
       "[464 rows x 2 columns]"
      ]
     },
     "execution_count": 4,
     "metadata": {},
     "output_type": "execute_result"
    }
   ],
   "source": [
    "start = '2023-10-09 09:00:00'\n",
    "end =   '2023-10-29 23:30:00'\n",
    "\n",
    "# Filter the DataFrame based on the date range\n",
    "filtered_df = df[(df['Date'] >= start) & (df['Date'] <= end)]\n",
    "\n",
    "# Select the desired columns\n",
    "result_df = filtered_df[['Date', 'URL']]\n",
    "result_df"
   ]
  },
  {
   "cell_type": "markdown",
   "metadata": {},
   "source": [
    "__For the amount of data we are feeding the model, we can only use the gpt-4 mini model. The other models have smaller limits on token amounts.__"
   ]
  },
  {
   "cell_type": "code",
   "execution_count": 5,
   "metadata": {},
   "outputs": [],
   "source": [
    "from class_version import OpenAIClient\n",
    "ai = OpenAIClient(max_tokens=8100, model_name='gpt-4o-mini', system_role_content=\"\"\"you are an IT administrator checking the productivity of individual employees on \n",
    "                  behalf of your manager\"\"\")\n",
    "                  "
   ]
  },
  {
   "cell_type": "markdown",
   "metadata": {},
   "source": [
    "### __A sample size should be entered for the second arguement of the *check_modify_df_size* function.__\n",
    "\n",
    "### __This will be the minimum percentage of the dataset to be used in the event that the dataset is too large.__ "
   ]
  },
  {
   "cell_type": "code",
   "execution_count": 6,
   "metadata": {},
   "outputs": [],
   "source": [
    "def check_modify_df_size(df, smallest_sample_size):\n",
    "    \"\"\"\n",
    "    Adjusts the size of a DataFrame to ensure it can be processed by a model with a token size limit.\n",
    "\n",
    "    Parameters:\n",
    "    df (pandas.DataFrame): The DataFrame to be processed.\n",
    "    smallest_sample_size (int): The smallest sample size percentage to consider when reducing the DataFrame size.\n",
    "\n",
    "    Returns:\n",
    "    str: A string representation of the DataFrame if it fits within the token size limit.\n",
    "    list: A list containing an error message if the DataFrame is too large to be processed.\n",
    "    \"\"\"\n",
    "    \n",
    "    # The maximum token size that the model can process is 199,000. The number of characters per token is approximately 4.\n",
    "    MAX_TOKEN_SIZE = 199000\n",
    "    CHARS_PER_TOKEN = 4\n",
    "    \n",
    "    # List of sample sizes to be used to reduce the size of the DataFrame\n",
    "    SAMPLE_SIZES = [x/100 for x in range(90, smallest_sample_size - 10, -10)]\n",
    "    \n",
    "    # The DataFrame must be converted to string so that the model can read it in its entirety and not just the first and \n",
    "    # last lines which is what happens in the non-string version.\n",
    "    string_version = df.to_string()\n",
    "    \n",
    "    # Check if the string version of the DataFrame fits within the token size limit\n",
    "    if len(string_version) / CHARS_PER_TOKEN <= MAX_TOKEN_SIZE:\n",
    "        return string_version\n",
    "    else:\n",
    "        # Iterate through the sample sizes to find a reduced version of the DataFrame that fits within the token size limit\n",
    "        for sample in SAMPLE_SIZES:\n",
    "            sample_df = df.sample(frac=sample)\n",
    "            sample_string_version = sample_df.to_string()\n",
    "            if len(sample_string_version) / CHARS_PER_TOKEN <= MAX_TOKEN_SIZE:\n",
    "                return sample_string_version\n",
    "    \n",
    "    # If no suitable sample size is found, return an error message\n",
    "    if len(string_version) / CHARS_PER_TOKEN > MAX_TOKEN_SIZE:\n",
    "        # the error message is returned as a list to differentiate it from the string representation of the DataFrame\n",
    "        return ['The DataFrame is too large to be processed by the model.']"
   ]
  },
  {
   "cell_type": "markdown",
   "metadata": {},
   "source": [
    "### __The prompt can modified in any way to get different results.__"
   ]
  },
  {
   "cell_type": "code",
   "execution_count": 7,
   "metadata": {},
   "outputs": [
    {
     "data": {
      "text/markdown": [
       "### Overall Analysis of Browsing History\n",
       "\n",
       "1. **Total Number of URLs Visited:**\n",
       "   - A total of **287** unique URLs were visited within the dataset.\n",
       "\n",
       "2. **Unique Websites and Count:**\n",
       "   Below is the breakdown of unique websites visited along with the number of times each was accessed:\n",
       "\n",
       "| URL                                                                                                                                      | Count |\n",
       "|------------------------------------------------------------------------------------------------------------------------------------------|-------|\n",
       "| https://www.pythonanywhere.com/user/yosefc/files/home/yosefc/mysite                                                                         | 25    |\n",
       "| https://www.pythonanywhere.com/user/yosefc/files/home/yosefc/mysite/Flask                                                                   | 22    |\n",
       "| https://www.pythonanywhere.com/user/yosefc/                                                                                               | 16    |\n",
       "| https://www.pythonanywhere.com/user/yosefc/webapps/#tab_id_yosefc_pythonanywhere_com                                                        | 16    |\n",
       "| https://www.pythonanywhere.com/user/yosefc/consoles/#                                                                                      | 12    |\n",
       "| https://chat.openai.com/                                                                                                                  | 12    |\n",
       "| https://www.pythonanywhere.com/user/yosefc/files/home/yosefc/mysite/Flask/app.py?edit                                                      | 10    |\n",
       "| https://www.pythonanywhere.com/user/yosefc/files/home/yosefc/mysite/Flask/static                                                           | 10    |\n",
       "| https://www.google.com/                                                                                                                    | 7     |\n",
       "| https://www.youtube.com/results?search_query=israel                                                                                       | 5     |\n",
       "| Other URLs                                                                                                                               | 90    |\n",
       "\n",
       "(Note: The “Other URLs” category includes all URLs that had fewer than 5 visits.)\n",
       "\n",
       "3. **Categorization of Visited Websites:**\n",
       "   - **Work-related/Learning Sites:** \n",
       "     - Examples include PythonAnywhere (counted as learning/work resources) and OpenAI chat-related URLs.\n",
       "   - **Entertainment Sites:** \n",
       "     - Examples include YouTube.\n",
       "\n",
       "| Category                  | Count | Percentage of Total Sites (%) |\n",
       "|---------------------------|-------|-------------------------------|\n",
       "| Work-related/Learning     | 210   | 73%                           |\n",
       "| Entertainment             | 20    | 7%                            |\n",
       "| Other / Neutral            | 57    | 20%                           |\n",
       "\n",
       "### Rating and Conclusion\n",
       "\n",
       "4. **Productivity Rating:**\n",
       "   - Based on the content visited, including the high number of educational and work-related URLs compared to entertainment sites, I would rate the overall browsing history as **Productive**.\n",
       "   - While there are instances of visiting entertainment sites (notably YouTube), the majority of the browsing activity is focused on work-related education and development tasks.\n",
       "\n",
       "### Summary \n",
       "- The browsing history indicates a strong inclination towards learning and work-related tasks with minimal engagement in entertainment-related content.\n",
       "- The emphasis on using educational resources suggests a proactive approach to work and personal development. Thus, labeling it as \"productive\" reflects a favorable assessment of the employee's online activities."
      ],
      "text/plain": [
       "<IPython.core.display.Markdown object>"
      ]
     },
     "metadata": {},
     "output_type": "display_data"
    }
   ],
   "source": [
    "# if the functions returns a DataFrame, then the DataFrame is small enough to be processed by the model\n",
    "if type(check_modify_df_size(result_df, 20)) != list:\n",
    "       \n",
    "        ai_response = ai.get_response(f\"\"\"\n",
    "        Analyze the following browser history data: {check_modify_df_size(result_df, 20)}. \n",
    "        The analysis should be on the entire dataset not just a sample. List the total number of urls visited.\n",
    "        Create a table of all the unique websites visited and the number of times each website was visited.\n",
    "        Identify the visited websites and categorize them into work-related/learning, and entertainment, \n",
    "        and provide the percentage of sites visited in each of these categories.\n",
    "        Additionally, rate the complete browsing history  as either: highly productive, productive, neutral, unproductive, \n",
    "        or concerning. \n",
    "        \"\"\")\n",
    "# if the function returns a list (the error message), then the DataFrame is too large to be processed by the model\n",
    "else:\n",
    "    ai_response = \"\"\" The DataFrame is too large to be processed by the model. There is a limit of roughly 800,000 characters\n",
    "                      that can be processed at a time. Please reduce the size of the DataFrame by using a smaller time frame \n",
    "                      and try again. \n",
    "                  \"\"\"    \n",
    "\n",
    "# Display the AI response\n",
    "\n",
    "display(Markdown(ai_response))\n"
   ]
  }
 ],
 "metadata": {
  "kernelspec": {
   "display_name": "Python 3",
   "language": "python",
   "name": "python3"
  },
  "language_info": {
   "codemirror_mode": {
    "name": "ipython",
    "version": 3
   },
   "file_extension": ".py",
   "mimetype": "text/x-python",
   "name": "python",
   "nbconvert_exporter": "python",
   "pygments_lexer": "ipython3",
   "version": "3.11.3"
  }
 },
 "nbformat": 4,
 "nbformat_minor": 2
}
