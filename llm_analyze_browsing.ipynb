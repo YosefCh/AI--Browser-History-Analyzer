{
 "cells": [
  {
   "cell_type": "code",
   "execution_count": 1,
   "metadata": {},
   "outputs": [
    {
     "data": {
      "text/markdown": [
       " ### Earliest date:  __2023-01-30 20:31:28__ \n",
       " ### Latest date:  __2024-09-18 13:25:32__"
      ],
      "text/plain": [
       "<IPython.core.display.Markdown object>"
      ]
     },
     "metadata": {},
     "output_type": "display_data"
    }
   ],
   "source": [
    "import pandas as pd \n",
    "from IPython.display import display, Markdown\n",
    "\n",
    "with open('browser_history_file_path.txt', 'r') as file:\n",
    "    file_path = file.read()\n",
    "\n",
    "df = pd.read_csv(file_path)\n",
    "\n",
    "# convert the 'Date' column to datetime format\n",
    "df['Date'] = pd.to_datetime(df['Date'])\n",
    "max_date = df['Date'].max()\n",
    "min_date = df['Date'].min()\n",
    "\n",
    "# using markdown to display the start and end date of the available browsing history\n",
    "display(Markdown(f' ### Earliest date:  __{min_date}__ \\n ### Latest date:  __{max_date}__'))"
   ]
  },
  {
   "cell_type": "markdown",
   "metadata": {},
   "source": [
    "Choose a start and end date for the desired browsing history to analyze.\n",
    "\n",
    "Bear in mind that the dataframe cannot exceed approximately 800,000 characters, so the date range should be chosen accordingly. It might be a trial and error process to find the largest possible date range that fits within the character limit."
   ]
  },
  {
   "cell_type": "code",
   "execution_count": 2,
   "metadata": {},
   "outputs": [
    {
     "data": {
      "text/html": [
       "<div>\n",
       "<style scoped>\n",
       "    .dataframe tbody tr th:only-of-type {\n",
       "        vertical-align: middle;\n",
       "    }\n",
       "\n",
       "    .dataframe tbody tr th {\n",
       "        vertical-align: top;\n",
       "    }\n",
       "\n",
       "    .dataframe thead th {\n",
       "        text-align: right;\n",
       "    }\n",
       "</style>\n",
       "<table border=\"1\" class=\"dataframe\">\n",
       "  <thead>\n",
       "    <tr style=\"text-align: right;\">\n",
       "      <th></th>\n",
       "      <th>Date</th>\n",
       "      <th>URL</th>\n",
       "    </tr>\n",
       "  </thead>\n",
       "  <tbody>\n",
       "    <tr>\n",
       "      <th>13226</th>\n",
       "      <td>2023-10-10 10:02:20</td>\n",
       "      <td>https://www.pythonanywhere.com/</td>\n",
       "    </tr>\n",
       "    <tr>\n",
       "      <th>13227</th>\n",
       "      <td>2023-10-10 10:02:20</td>\n",
       "      <td>https://www.pythonanywhere.com/</td>\n",
       "    </tr>\n",
       "    <tr>\n",
       "      <th>13228</th>\n",
       "      <td>2023-10-10 10:02:51</td>\n",
       "      <td>https://www.pythonanywhere.com/pricing/</td>\n",
       "    </tr>\n",
       "    <tr>\n",
       "      <th>13229</th>\n",
       "      <td>2023-10-10 10:02:51</td>\n",
       "      <td>https://www.pythonanywhere.com/pricing/</td>\n",
       "    </tr>\n",
       "    <tr>\n",
       "      <th>13230</th>\n",
       "      <td>2023-10-10 10:03:25</td>\n",
       "      <td>https://www.pythonanywhere.com/registration/re...</td>\n",
       "    </tr>\n",
       "    <tr>\n",
       "      <th>...</th>\n",
       "      <td>...</td>\n",
       "      <td>...</td>\n",
       "    </tr>\n",
       "    <tr>\n",
       "      <th>13395</th>\n",
       "      <td>2023-10-10 17:27:24</td>\n",
       "      <td>https://yosefc.pythonanywhere.com/?year=5774</td>\n",
       "    </tr>\n",
       "    <tr>\n",
       "      <th>13396</th>\n",
       "      <td>2023-10-10 17:29:53</td>\n",
       "      <td>https://www.pythonanywhere.com/user/yosefc/con...</td>\n",
       "    </tr>\n",
       "    <tr>\n",
       "      <th>13397</th>\n",
       "      <td>2023-10-10 17:29:53</td>\n",
       "      <td>https://www.pythonanywhere.com/user/yosefc/con...</td>\n",
       "    </tr>\n",
       "    <tr>\n",
       "      <th>13398</th>\n",
       "      <td>2023-10-10 17:30:00</td>\n",
       "      <td>https://www.pythonanywhere.com/user/yosefc/con...</td>\n",
       "    </tr>\n",
       "    <tr>\n",
       "      <th>13399</th>\n",
       "      <td>2023-10-10 17:30:00</td>\n",
       "      <td>https://www.pythonanywhere.com/user/yosefc/con...</td>\n",
       "    </tr>\n",
       "  </tbody>\n",
       "</table>\n",
       "<p>174 rows × 2 columns</p>\n",
       "</div>"
      ],
      "text/plain": [
       "                     Date                                                URL\n",
       "13226 2023-10-10 10:02:20                    https://www.pythonanywhere.com/\n",
       "13227 2023-10-10 10:02:20                    https://www.pythonanywhere.com/\n",
       "13228 2023-10-10 10:02:51            https://www.pythonanywhere.com/pricing/\n",
       "13229 2023-10-10 10:02:51            https://www.pythonanywhere.com/pricing/\n",
       "13230 2023-10-10 10:03:25  https://www.pythonanywhere.com/registration/re...\n",
       "...                   ...                                                ...\n",
       "13395 2023-10-10 17:27:24       https://yosefc.pythonanywhere.com/?year=5774\n",
       "13396 2023-10-10 17:29:53  https://www.pythonanywhere.com/user/yosefc/con...\n",
       "13397 2023-10-10 17:29:53  https://www.pythonanywhere.com/user/yosefc/con...\n",
       "13398 2023-10-10 17:30:00  https://www.pythonanywhere.com/user/yosefc/con...\n",
       "13399 2023-10-10 17:30:00  https://www.pythonanywhere.com/user/yosefc/con...\n",
       "\n",
       "[174 rows x 2 columns]"
      ]
     },
     "execution_count": 2,
     "metadata": {},
     "output_type": "execute_result"
    }
   ],
   "source": [
    "start = '2023-10-10 09:00:00'\n",
    "end =   '2023-10-10 17:30:00'\n",
    "\n",
    "# Filter the DataFrame based on the date range\n",
    "filtered_df = df[(df['Date'] >= start) & (df['Date'] <= end)]\n",
    "\n",
    "# Select the desired columns\n",
    "result_df = filtered_df[['Date', 'URL']]\n",
    "result_df"
   ]
  },
  {
   "cell_type": "markdown",
   "metadata": {},
   "source": [
    "__For the amount of data we are feeding the model, we can only use the gpt-4 mini model. The other models have smaller limits on token amounts.__"
   ]
  },
  {
   "cell_type": "code",
   "execution_count": 3,
   "metadata": {},
   "outputs": [],
   "source": [
    "from class_version import OpenAIClient\n",
    "ai = OpenAIClient(max_tokens=8100, model_name='gpt-4o-mini', system_role_content=\"\"\"you are an IT administrator checking the productivity of individual employees on \n",
    "                  behalf of your manager\"\"\")\n",
    "                  "
   ]
  },
  {
   "cell_type": "markdown",
   "metadata": {},
   "source": [
    "### __A sample size should be entered for the second arguement of the *check_modify_df_size* function.__\n",
    "\n",
    "### __This will be the minimum percentage of the dataset to be used in the event that the dataset is too large.__ "
   ]
  },
  {
   "cell_type": "code",
   "execution_count": 4,
   "metadata": {},
   "outputs": [],
   "source": [
    "def check_modify_df_size(df, smallest_sample_size):\n",
    "    \"\"\"\n",
    "    Adjusts the size of a DataFrame to ensure it can be processed by a model with a token size limit.\n",
    "\n",
    "    Parameters:\n",
    "    df (pandas.DataFrame): The DataFrame to be processed.\n",
    "    smallest_sample_size (int): The smallest sample size percentage to consider when reducing the DataFrame size.\n",
    "\n",
    "    Returns:\n",
    "    str: A string representation of the DataFrame if it fits within the token size limit.\n",
    "    list: A list containing an error message if the DataFrame is too large to be processed.\n",
    "    \"\"\"\n",
    "    \n",
    "    # The maximum token size that the model can process is 199,000. The number of characters per token is approximately 4.\n",
    "    MAX_TOKEN_SIZE = 199000\n",
    "    CHARS_PER_TOKEN = 4\n",
    "    \n",
    "    # List of sample sizes to be used to reduce the size of the DataFrame\n",
    "    SAMPLE_SIZES = [x/100 for x in range(90, smallest_sample_size - 10, -10)]\n",
    "    \n",
    "    # The DataFrame must be converted to string so that the model can read it in its entirety and not just the first and \n",
    "    # last lines which is what happens in the non-string version.\n",
    "    string_version = df.to_string()\n",
    "    \n",
    "    # Check if the string version of the DataFrame fits within the token size limit\n",
    "    if len(string_version) / CHARS_PER_TOKEN <= MAX_TOKEN_SIZE:\n",
    "        return string_version\n",
    "    else:\n",
    "        # Iterate through the sample sizes to find a reduced version of the DataFrame that fits within the token size limit\n",
    "        for sample in SAMPLE_SIZES:\n",
    "            sample_df = df.sample(frac=sample)\n",
    "            sample_string_version = sample_df.to_string()\n",
    "            if len(sample_string_version) / CHARS_PER_TOKEN <= MAX_TOKEN_SIZE:\n",
    "                return sample_string_version\n",
    "    \n",
    "    # If no suitable sample size is found, return an error message\n",
    "    if len(string_version) / CHARS_PER_TOKEN > MAX_TOKEN_SIZE:\n",
    "        # the error message is returned as a list to differentiate it from the string representation of the DataFrame\n",
    "        return ['The DataFrame is too large to be processed by the model.']"
   ]
  },
  {
   "cell_type": "markdown",
   "metadata": {},
   "source": [
    "### __The prompt can modified in any way to get different results.__"
   ]
  },
  {
   "cell_type": "code",
   "execution_count": 5,
   "metadata": {},
   "outputs": [
    {
     "data": {
      "text/markdown": [
       "## Analysis of Browser History Data\n",
       "\n",
       "### Total Number of URLs Visited\n",
       "- Total URLs visited: **248**\n",
       "\n",
       "### Unique Websites Visited and Visit Counts\n",
       "\n",
       "| Website                               | Number of Visits |\n",
       "|---------------------------------------|------------------|\n",
       "| www.pythonanywhere.com                | 126              |\n",
       "| youtube.com                           | 15               |\n",
       "| chat.openai.com                       | 20               |\n",
       "| google.com                            | 8                |\n",
       "| coursera.org                         | 6                |\n",
       "| yosefc.pythonanywhere.com            | 24               |\n",
       "| help.pythonanywhere.com              | 4                |\n",
       "| msn.com                               | 2                |\n",
       "| login.live.com                        | 4                |\n",
       "| pythonanywhere.com                    | 1                |\n",
       "\n",
       "### Website Categories\n",
       "- **Work-Related/Learning**: \n",
       "  - www.pythonanywhere.com \n",
       "  - help.pythonanywhere.com \n",
       "  - coursera.org \n",
       "  - chat.openai.com \n",
       "  - google.com (search used for programming assistance)\n",
       "  \n",
       "  Total count: 171 visits (PythonAnywhere: 126 + Coursera: 6 + Google for learning: 8 + Help Center: 4 + Chat: 20)\n",
       "\n",
       "- **Entertainment**: \n",
       "  - youtube.com \n",
       "  \n",
       "Total count: 15 visits\n",
       "\n",
       "### Percentage of Each Category\n",
       "- **Work-Related/Learning**: \n",
       "  \\[\n",
       "  \\text{Percentage} = \\frac{171}{248} \\times 100 \\approx 68.95\\%\n",
       "  \\]\n",
       "  \n",
       "- **Entertainment**: \n",
       "  \\[\n",
       "  \\text{Percentage} = \\frac{15}{248} \\times 100 \\approx 6.05\\%\n",
       "  \\]\n",
       "\n",
       "### Rating of Browsing History\n",
       "Given the browsing history, which mainly consists of work-related activities associated with learning, development, and programming, followed by a relatively small amount of entertainment content, I would rate the browsing history as:\n",
       "\n",
       "**Productive.**\n",
       "\n",
       "### Summary\n",
       "- Total visited URLs: **248**\n",
       "- Unique websites: **10**\n",
       "- Work-Related/Learning websites: **68.95%**\n",
       "- Entertainment websites: **6.05%**\n",
       "- Overall rating: **Productive** \n",
       "\n",
       "This concludes the analysis of the browser history data."
      ],
      "text/plain": [
       "<IPython.core.display.Markdown object>"
      ]
     },
     "metadata": {},
     "output_type": "display_data"
    }
   ],
   "source": [
    "# if the functions returns a DataFrame, then the DataFrame is small enough to be processed by the model\n",
    "if type(check_modify_df_size(result_df, 20)) != list:\n",
    "       \n",
    "        ai_response = ai.get_response(f\"\"\"\n",
    "        Analyze the following browser history data: {check_modify_df_size(result_df, 20)}. \n",
    "        The analysis should be on the entire dataset not just a sample. List the total number of urls visited.\n",
    "        Create a table of all the unique websites visited and the number of times each website was visited.\n",
    "        Identify the visited websites and categorize them into work-related/learning, and entertainment, \n",
    "        and provide the percentage of sites visited in each of these categories.\n",
    "        Additionally, rate the complete browsing history  as either: highly productive, productive, neutral, unproductive, \n",
    "        or concerning. \n",
    "        \"\"\")\n",
    "# if the function returns a list (the error message), then the DataFrame is too large to be processed by the model\n",
    "else:\n",
    "    ai_response = \"\"\" The DataFrame is too large to be processed by the model. There is a limit of roughly 800,000 characters\n",
    "                      that can be processed at a time. Please reduce the size of the DataFrame by using a smaller time frame \n",
    "                      and try again. \n",
    "                  \"\"\"    \n",
    "\n",
    "# Display the AI response\n",
    "\n",
    "display(Markdown(ai_response))\n"
   ]
  },
  {
   "cell_type": "code",
   "execution_count": 34,
   "metadata": {},
   "outputs": [
    {
     "data": {
      "text/markdown": [
       "### Profession: __computer science college instructor__"
      ],
      "text/plain": [
       "<IPython.core.display.Markdown object>"
      ]
     },
     "metadata": {},
     "output_type": "display_data"
    }
   ],
   "source": [
    "profession = input(\"Enter your profession: \")\n",
    "display(Markdown(f\"### Profession: __{profession}__\"))"
   ]
  },
  {
   "cell_type": "code",
   "execution_count": 35,
   "metadata": {},
   "outputs": [
    {
     "data": {
      "text/markdown": [
       "To analyze the browsing history data for the individual who is a computer science college instructor, we can look for patterns that might indicate concerning or addictive behaviors. The data primarily features visits to PythonAnywhere, a platform likely used for coding, web application development, and hosting. Here are several observations:\n",
       "\n",
       "### 1. **Frequency and Duration of Visits**\n",
       "- The individual has numerous entries logged, many of which are duplicates at short time intervals (indicating repetitive behavior). For instance:\n",
       "  - Multiple visits to the same URLs (e.g., visiting the same page on PythonAnywhere repeatedly within seconds).\n",
       "  - High frequency of browsing during working hours (from 10:02 AM to 10:55 AM, then again in the later hours up until 5:30 PM).\n",
       "\n",
       "### 2. **Focus on Specific Activities**\n",
       "- The browsing history shows a concentrated effort on editing files (e.g., Python scripts) and managing web apps. Activities involving coding and project development are consistent, which may be in line with the instructor's professional responsibilities.\n",
       "- There are multiple visits to specific file paths and console sessions, suggesting a deep engagement with various projects or tasks.\n",
       "\n",
       "### 3. **Potential Signs of Addictive Behavior**\n",
       "- **Repetitive Patterns:** The numerous repeated visits to the same URLs within a very short span may signal compulsive checking or a need for completion.\n",
       "- **Lack of Diversion:** There’s little evidence of diversifying interests; the individual seems primarily focused on specific web applications and coding tasks without breaks or shifts to other activities (leisure or social).\n",
       "- **Time-Consuming Activities:** The duration spent engaged with coding-related URLs may imply an excessive commitment, potentially leading to burnout or neglect of other professional or personal responsibilities.\n",
       "\n",
       "### 4. **Time of Browsing**\n",
       "- The overall browsing pattern suggests that this individual is working long hours, with browsing activity starting early in the morning and continuing until the evening. Such prolonged periods of engagement can negatively impact both mental wellness and work-life balance.\n",
       "\n",
       "### 5. **Context of Use**\n",
       "- Considering that the individual is a college instructor, their professional duties might necessitate heavy engagement with coding and project management. However, it’s crucial to assess whether the level of engagement is healthy or if it borders on obsession where it impairs other aspects of life.\n",
       "\n",
       "### Recommendations\n",
       "To address potential concerning behaviors, the individual might consider:\n",
       "- **Time Management**: Setting clear boundaries for work and personal time to prevent excessive engagement in work-related tasks during non-work hours.\n",
       "- **Regular Breaks**: Incorporate scheduled breaks to engage in leisure activities, helping maintain a balance and preventing burnout.\n",
       "- **Reflection on Engagement**: Periodically assess their work habits and whether the level of engagement feels sustainable over the long term. \n",
       "\n",
       "In conclusion, while the individual appears to be highly engaged in their professional tasks related to their role as a computer science instructor, the pattern of repetitive and lengthy browsing sessions may indicate potential concerns related to work-life balance or addictive behavior. Further self-reflection and possible behavioral adjustments may be beneficial for overall well-being."
      ],
      "text/plain": [
       "<IPython.core.display.Markdown object>"
      ]
     },
     "metadata": {},
     "output_type": "display_data"
    }
   ],
   "source": [
    "\n",
    "ai = OpenAIClient(max_tokens=1000, model_name='gpt-4o-mini', system_role_content=\"\"\"you are a behavioral psychologist.\"\"\")\n",
    "\n",
    "# Construct the prompt\n",
    "prompt = f\"\"\"Here is the browsing history data for an individual who is a(n) {profession} during working hours: {check_modify_df_size(result_df, 20)}. \n",
    "Analyze the data to determine if there are any concerning patterns such as addictive behavior for someone who is a(n) {profession}.\"\"\"\n",
    "\n",
    "\n",
    "# Get the response from the AI\n",
    "response = ai.get_response(prompt)\n",
    "display(Markdown(response))\n"
   ]
  }
 ],
 "metadata": {
  "kernelspec": {
   "display_name": "Python 3",
   "language": "python",
   "name": "python3"
  },
  "language_info": {
   "codemirror_mode": {
    "name": "ipython",
    "version": 3
   },
   "file_extension": ".py",
   "mimetype": "text/x-python",
   "name": "python",
   "nbconvert_exporter": "python",
   "pygments_lexer": "ipython3",
   "version": "3.11.3"
  }
 },
 "nbformat": 4,
 "nbformat_minor": 2
}
